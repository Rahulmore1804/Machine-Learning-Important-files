{
 "cells": [
  {
   "cell_type": "code",
   "execution_count": 14,
   "metadata": {},
   "outputs": [],
   "source": [
    "import numpy as np\n",
    "import matplotlib.pyplot as plt\n",
    "import pandas  as pd\n",
    "%matplotlib inline"
   ]
  },
  {
   "cell_type": "code",
   "execution_count": 2,
   "metadata": {},
   "outputs": [],
   "source": [
    "dataset = pd.read_csv('Car_Purchasing_Data.csv')\n",
    "\n",
    "x = dataset.iloc[:,3:-1].values\n",
    "y = dataset.iloc[:,-1].values"
   ]
  },
  {
   "cell_type": "code",
   "execution_count": 3,
   "metadata": {},
   "outputs": [
    {
     "data": {
      "text/plain": [
       "<bound method NDFrame.head of        Customer Name                                    Customer e-mail  \\\n",
       "0      Martina Avila  cubilia.Curae.Phasellus@quisaccumsanconvallis.edu   \n",
       "1      Harlan Barnes                                eu.dolor@diam.co.uk   \n",
       "2    Naomi Rodriquez  vulputate.mauris.sagittis@ametconsectetueradip...   \n",
       "3    Jade Cunningham                            malesuada@dignissim.com   \n",
       "4       Cedric Leach     felis.ullamcorper.viverra@egetmollislectus.net   \n",
       "..               ...                                                ...   \n",
       "495           Walter                                ligula@Cumsociis.ca   \n",
       "496            Vanna                 Cum.sociis.natoque@Sedmolestie.edu   \n",
       "497            Pearl                      penatibus.et@massanonante.com   \n",
       "498             Nell                  Quisque.varius@arcuVivamussit.net   \n",
       "499            Marla                          Camaron.marla@hotmail.com   \n",
       "\n",
       "    Country  Gender  Age  Annual Salary  Credit Card Debt    Net Worth  \\\n",
       "0       USA       0   42    62812.09301      11609.380910  238961.2505   \n",
       "1       USA       0   41    66646.89292       9572.957136  530973.9078   \n",
       "2       USA       1   43    53798.55112      11160.355060  638467.1773   \n",
       "3       USA       1   58    79370.03798      14426.164850  548599.0524   \n",
       "4       USA       1   57    59729.15130       5358.712177  560304.0671   \n",
       "..      ...     ...  ...            ...               ...          ...   \n",
       "495     USA       0   41    71942.40291       6995.902524  541670.1016   \n",
       "496     USA       1   38    56039.49793      12301.456790  360419.0988   \n",
       "497     USA       1   54    68888.77805      10611.606860  764531.3203   \n",
       "498     USA       1   59    49811.99062      14013.034510  337826.6382   \n",
       "499     USA       1   47    61370.67766       9391.341628  462946.4924   \n",
       "\n",
       "     Car Purchase Amount  \n",
       "0            35321.45877  \n",
       "1            45115.52566  \n",
       "2            42925.70921  \n",
       "3            67422.36313  \n",
       "4            55915.46248  \n",
       "..                   ...  \n",
       "495          48901.44342  \n",
       "496          31491.41457  \n",
       "497          64147.28888  \n",
       "498          45442.15353  \n",
       "499          45107.22566  \n",
       "\n",
       "[500 rows x 9 columns]>"
      ]
     },
     "execution_count": 3,
     "metadata": {},
     "output_type": "execute_result"
    }
   ],
   "source": [
    "dataset.head"
   ]
  },
  {
   "cell_type": "code",
   "execution_count": 4,
   "metadata": {},
   "outputs": [
    {
     "data": {
      "text/plain": [
       "(500, 9)"
      ]
     },
     "execution_count": 4,
     "metadata": {},
     "output_type": "execute_result"
    }
   ],
   "source": [
    "dataset.shape"
   ]
  },
  {
   "cell_type": "code",
   "execution_count": 5,
   "metadata": {},
   "outputs": [
    {
     "name": "stdout",
     "output_type": "stream",
     "text": [
      "<class 'pandas.core.frame.DataFrame'>\n",
      "RangeIndex: 500 entries, 0 to 499\n",
      "Data columns (total 9 columns):\n",
      " #   Column               Non-Null Count  Dtype  \n",
      "---  ------               --------------  -----  \n",
      " 0   Customer Name        500 non-null    object \n",
      " 1   Customer e-mail      500 non-null    object \n",
      " 2   Country              500 non-null    object \n",
      " 3   Gender               500 non-null    int64  \n",
      " 4   Age                  500 non-null    int64  \n",
      " 5   Annual Salary        500 non-null    float64\n",
      " 6   Credit Card Debt     500 non-null    float64\n",
      " 7   Net Worth            500 non-null    float64\n",
      " 8   Car Purchase Amount  500 non-null    float64\n",
      "dtypes: float64(4), int64(2), object(3)\n",
      "memory usage: 35.3+ KB\n"
     ]
    }
   ],
   "source": [
    "dataset.info()"
   ]
  },
  {
   "cell_type": "code",
   "execution_count": 6,
   "metadata": {},
   "outputs": [
    {
     "data": {
      "text/plain": [
       "<bound method NDFrame.describe of        Customer Name                                    Customer e-mail  \\\n",
       "0      Martina Avila  cubilia.Curae.Phasellus@quisaccumsanconvallis.edu   \n",
       "1      Harlan Barnes                                eu.dolor@diam.co.uk   \n",
       "2    Naomi Rodriquez  vulputate.mauris.sagittis@ametconsectetueradip...   \n",
       "3    Jade Cunningham                            malesuada@dignissim.com   \n",
       "4       Cedric Leach     felis.ullamcorper.viverra@egetmollislectus.net   \n",
       "..               ...                                                ...   \n",
       "495           Walter                                ligula@Cumsociis.ca   \n",
       "496            Vanna                 Cum.sociis.natoque@Sedmolestie.edu   \n",
       "497            Pearl                      penatibus.et@massanonante.com   \n",
       "498             Nell                  Quisque.varius@arcuVivamussit.net   \n",
       "499            Marla                          Camaron.marla@hotmail.com   \n",
       "\n",
       "    Country  Gender  Age  Annual Salary  Credit Card Debt    Net Worth  \\\n",
       "0       USA       0   42    62812.09301      11609.380910  238961.2505   \n",
       "1       USA       0   41    66646.89292       9572.957136  530973.9078   \n",
       "2       USA       1   43    53798.55112      11160.355060  638467.1773   \n",
       "3       USA       1   58    79370.03798      14426.164850  548599.0524   \n",
       "4       USA       1   57    59729.15130       5358.712177  560304.0671   \n",
       "..      ...     ...  ...            ...               ...          ...   \n",
       "495     USA       0   41    71942.40291       6995.902524  541670.1016   \n",
       "496     USA       1   38    56039.49793      12301.456790  360419.0988   \n",
       "497     USA       1   54    68888.77805      10611.606860  764531.3203   \n",
       "498     USA       1   59    49811.99062      14013.034510  337826.6382   \n",
       "499     USA       1   47    61370.67766       9391.341628  462946.4924   \n",
       "\n",
       "     Car Purchase Amount  \n",
       "0            35321.45877  \n",
       "1            45115.52566  \n",
       "2            42925.70921  \n",
       "3            67422.36313  \n",
       "4            55915.46248  \n",
       "..                   ...  \n",
       "495          48901.44342  \n",
       "496          31491.41457  \n",
       "497          64147.28888  \n",
       "498          45442.15353  \n",
       "499          45107.22566  \n",
       "\n",
       "[500 rows x 9 columns]>"
      ]
     },
     "execution_count": 6,
     "metadata": {},
     "output_type": "execute_result"
    }
   ],
   "source": [
    "dataset.describe\n"
   ]
  },
  {
   "cell_type": "code",
   "execution_count": 7,
   "metadata": {},
   "outputs": [
    {
     "data": {
      "text/plain": [
       "array([[0.00000000e+00, 4.20000000e+01, 6.28120930e+04, 1.16093809e+04,\n",
       "        2.38961250e+05],\n",
       "       [0.00000000e+00, 4.10000000e+01, 6.66468929e+04, 9.57295714e+03,\n",
       "        5.30973908e+05],\n",
       "       [1.00000000e+00, 4.30000000e+01, 5.37985511e+04, 1.11603551e+04,\n",
       "        6.38467177e+05],\n",
       "       ...,\n",
       "       [1.00000000e+00, 5.40000000e+01, 6.88887780e+04, 1.06116069e+04,\n",
       "        7.64531320e+05],\n",
       "       [1.00000000e+00, 5.90000000e+01, 4.98119906e+04, 1.40130345e+04,\n",
       "        3.37826638e+05],\n",
       "       [1.00000000e+00, 4.70000000e+01, 6.13706777e+04, 9.39134163e+03,\n",
       "        4.62946492e+05]])"
      ]
     },
     "execution_count": 7,
     "metadata": {},
     "output_type": "execute_result"
    }
   ],
   "source": [
    "x"
   ]
  },
  {
   "cell_type": "code",
   "execution_count": 8,
   "metadata": {},
   "outputs": [],
   "source": [
    "from sklearn.model_selection import train_test_split\n",
    "X_train, X_test, y_train, y_test = train_test_split(x, y, test_size = 0.2, random_state = 1)"
   ]
  },
  {
   "cell_type": "code",
   "execution_count": 9,
   "metadata": {},
   "outputs": [],
   "source": [
    "# from sklearn.preprocessing import StandardScaler\n",
    "# sc = StandardScaler()\n",
    "# X_train[:, :] = sc.fit_transform(X_train[:, :])\n",
    "# X_test[:, :] = sc.transform(X_test[:, :])"
   ]
  },
  {
   "cell_type": "code",
   "execution_count": 10,
   "metadata": {},
   "outputs": [
    {
     "data": {
      "text/plain": [
       "LinearRegression()"
      ]
     },
     "execution_count": 10,
     "metadata": {},
     "output_type": "execute_result"
    }
   ],
   "source": [
    "from sklearn.linear_model import LinearRegression\n",
    "regressor = LinearRegression()\n",
    "regressor.fit(X_train,y_train)"
   ]
  },
  {
   "cell_type": "code",
   "execution_count": 11,
   "metadata": {},
   "outputs": [],
   "source": [
    "y_pred = regressor.predict(X_test)"
   ]
  },
  {
   "cell_type": "code",
   "execution_count": 12,
   "metadata": {},
   "outputs": [
    {
     "name": "stdout",
     "output_type": "stream",
     "text": [
      "[[21800.03 22091.12]\n",
      " [23442.38 23517.92]\n",
      " [37679.9  37843.47]\n",
      " [43953.01 43680.91]\n",
      " [53435.6  53110.88]\n",
      " [47093.41 47443.74]\n",
      " [51766.12 51866.49]\n",
      " [44372.04 44650.36]\n",
      " [46039.54 46135.27]\n",
      " [39017.17 38955.22]\n",
      " [59462.5  59625.03]\n",
      " [36186.01 36112.79]\n",
      " [34496.69 34521.18]\n",
      " [47887.5  48104.11]\n",
      " [40336.76 40022.17]\n",
      " [46122.64 46380.45]\n",
      " [55472.35 55420.57]\n",
      " [70657.07 70878.3 ]\n",
      " [44255.98 44418.61]\n",
      " [38878.15 38504.39]\n",
      " [44372.67 44736.41]\n",
      " [39890.07 39892.93]\n",
      " [35340.14 35716.31]\n",
      " [60029.47 60117.68]\n",
      " [52679.31 52954.93]\n",
      " [62986.15 63079.84]\n",
      " [39550.4  39810.35]\n",
      " [59280.03 59096.27]\n",
      " [57342.49 57430.77]\n",
      " [43146.96 43264.05]\n",
      " [30788.23 30719.82]\n",
      " [56310.03 56071.61]\n",
      " [58122.77 58235.41]\n",
      " [42603.2  42705.11]\n",
      " [46709.98 46398.35]\n",
      " [52661.78 52665.37]\n",
      " [59323.36 59483.91]\n",
      " [55631.36 55915.46]\n",
      " [43603.57 43242.58]\n",
      " [45987.92 46082.81]\n",
      " [36339.79 36543.94]\n",
      " [32092.41 32061.65]\n",
      " [27584.64 27586.2 ]\n",
      " [44243.9  44577.45]\n",
      " [31035.9  31083.7 ]\n",
      " [31365.97 31526.05]\n",
      " [28516.71 28440.81]\n",
      " [30550.33 30736.58]\n",
      " [44679.96 44361.88]\n",
      " [33257.2  33640.74]\n",
      " [42853.19 42484.02]\n",
      " [37521.27 37744.54]\n",
      " [56793.01 56612.  ]\n",
      " [40528.62 40589.86]\n",
      " [27707.89 27303.17]\n",
      " [50104.35 49730.53]\n",
      " [52498.51 52240.73]\n",
      " [63608.74 63248.76]\n",
      " [43830.04 43901.71]\n",
      " [24172.18 24222.  ]\n",
      " [49136.98 49079.29]\n",
      " [19452.69 19553.27]\n",
      " [33549.86 33261.  ]\n",
      " [48900.4  48955.86]\n",
      " [52254.58 51922.08]\n",
      " [79959.25 80000.  ]\n",
      " [26445.16 26599.91]\n",
      " [34628.68 34678.83]\n",
      " [57424.8  57461.51]\n",
      " [43535.88 43855.06]\n",
      " [22817.38 22630.26]\n",
      " [40821.19 41137.89]\n",
      " [47847.36 47935.94]\n",
      " [43823.66 43994.36]\n",
      " [34998.04 34642.6 ]\n",
      " [51147.59 51046.42]\n",
      " [48500.25 48901.44]\n",
      " [47419.78 47719.48]\n",
      " [57149.02 56973.18]\n",
      " [48895.11 48622.66]\n",
      " [51178.58 51405.55]\n",
      " [41759.86 41451.72]\n",
      " [43254.79 42978.35]\n",
      " [52115.91 52056.41]\n",
      " [41151.77 40879.19]\n",
      " [56578.26 56457.74]\n",
      " [28649.28 28645.39]\n",
      " [50606.92 50441.62]\n",
      " [52645.79 52785.17]\n",
      " [48107.05 48383.69]\n",
      " [36083.52 35823.55]\n",
      " [53203.4  53049.45]\n",
      " [39731.39 39439.45]\n",
      " [29271.76 28925.71]\n",
      " [40360.38 40095.05]\n",
      " [42165.95 42288.81]\n",
      " [38261.71 37879.65]\n",
      " [25727.33 25971.96]\n",
      " [37055.06 37303.57]\n",
      " [49103.47 49142.51]]\n"
     ]
    }
   ],
   "source": [
    "np.set_printoptions(precision=2)\n",
    "print(np.concatenate((y_pred.reshape(len(y_pred),1),y_test.reshape(len(y_pred),1)),1))"
   ]
  },
  {
   "cell_type": "code",
   "execution_count": 13,
   "metadata": {},
   "outputs": [
    {
     "name": "stdout",
     "output_type": "stream",
     "text": [
      "0.9995802079616853\n"
     ]
    }
   ],
   "source": [
    "from sklearn.metrics import r2_score\n",
    "\n",
    "r2_score1=r2_score(y_pred,y_test)\n",
    "print(r2_score1)"
   ]
  },
  {
   "cell_type": "code",
   "execution_count": 17,
   "metadata": {},
   "outputs": [
    {
     "data": {
      "text/plain": [
       "<matplotlib.collections.PathCollection at 0x237e4f86dd0>"
      ]
     },
     "execution_count": 17,
     "metadata": {},
     "output_type": "execute_result"
    },
    {
     "data": {
      "image/png": "[encoded data removed]",
      "text/plain": [
       "<Figure size 432x288 with 1 Axes>"
      ]
     },
     "metadata": {
      "needs_background": "light"
     },
     "output_type": "display_data"
    }
   ],
   "source": [
    "plt.scatter(y_pred,y_test,c='b')"
   ]
  }
 ],
 "metadata": {
  "interpreter": {
   "hash": "a95eb8a46baf06b63271d171722b25d5e2c89e0ecd4b8fe265200602b30ada4b"
  },
  "kernelspec": {
   "display_name": "Python 3.10.1 64-bit",
   "language": "python",
   "name": "python3"
  },
  "language_info": {
   "codemirror_mode": {
    "name": "ipython",
    "version": 3
   },
   "file_extension": ".py",
   "mimetype": "text/x-python",
   "name": "python",
   "nbconvert_exporter": "python",
   "pygments_lexer": "ipython3",
   "version": "3.10.1"
  },
  "orig_nbformat": 4
 },
 "nbformat": 4,
 "nbformat_minor": 2
}
